{
 "cells": [
  {
   "cell_type": "code",
   "execution_count": 1,
   "id": "2dc7b5b0-6bfb-4204-89cd-8bc8e5f22110",
   "metadata": {},
   "outputs": [
    {
     "name": "stdout",
     "output_type": "stream",
     "text": [
      "1\n",
      "2\n",
      "3\n",
      "4\n",
      "5\n",
      "6\n",
      "7\n",
      "8\n",
      "9\n",
      "10\n"
     ]
    }
   ],
   "source": [
    "'''Q1: Write a Python program to print all the numbers from 1 to 10 using a for loop.'''\n",
    "\n",
    "for number in range(1,11):\n",
    "    print(number)"
   ]
  },
  {
   "cell_type": "code",
   "execution_count": 31,
   "id": "10bf3c46-e621-48a7-9117-2476366a1170",
   "metadata": {},
   "outputs": [
    {
     "name": "stdout",
     "output_type": "stream",
     "text": [
      "5050\n"
     ]
    }
   ],
   "source": [
    "'''Q2: Write a Python program to find the sum of all numbers from 1 to 100 using a for\n",
    "loop.'''\n",
    "\n",
    "total_sum_of_number = 0\n",
    "\n",
    "for num in range(1,101):\n",
    "    total_sum_of_number += num\n",
    "    \n",
    "print(total_sum_of_number)"
   ]
  },
  {
   "cell_type": "code",
   "execution_count": 3,
   "id": "3918de35-65dd-4167-ad06-546d58794e2c",
   "metadata": {},
   "outputs": [
    {
     "name": "stdin",
     "output_type": "stream",
     "text": [
      "enter your name of table:  2\n"
     ]
    },
    {
     "name": "stdout",
     "output_type": "stream",
     "text": [
      "2\n",
      "4\n",
      "6\n",
      "8\n",
      "10\n",
      "12\n",
      "14\n",
      "16\n",
      "18\n",
      "20\n"
     ]
    }
   ],
   "source": [
    "'''Q3: Write a Python program to print the multiplication table of a given number using a\n",
    "for loop.'''\n",
    "\n",
    "name_of_table = int(input(\"enter your name of table: \"))\n",
    "\n",
    "for table in range(1,11):\n",
    "    print(f\"{name_of_table*table}\")"
   ]
  },
  {
   "cell_type": "code",
   "execution_count": 66,
   "id": "8b91e90b-a238-400f-8343-1f3d88d43b33",
   "metadata": {},
   "outputs": [
    {
     "name": "stdout",
     "output_type": "stream",
     "text": [
      "1 this is odd number\n",
      "2 this is even number\n",
      "3 this is odd number\n",
      "4 this is even number\n",
      "5 this is odd number\n",
      "6 this is even number\n",
      "7 this is odd number\n",
      "8 this is even number\n",
      "9 this is odd number\n",
      "10 this is even number\n",
      "11 this is odd number\n"
     ]
    }
   ],
   "source": [
    "'''Q4: Write a Python program to count the number of even and odd numbers from a\n",
    "series of numbers using a for loop.'''\n",
    "\n",
    "# list = [1,2,3,4,5,6,7,8,9,10]\n",
    "odd_num = 0\n",
    "even_num = 0\n",
    "\n",
    "for i in range(1,12):\n",
    "    \n",
    "    if i%2 == 0:\n",
    "        print(f\"{i} this is even number\")\n",
    "\n",
    "    else:\n",
    "        print(f\"{i} this is odd number\")\n",
    "       \n",
    "        "
   ]
  },
  {
   "cell_type": "code",
   "execution_count": 43,
   "id": "77af09b9-bae2-401a-8923-75902ced69d4",
   "metadata": {},
   "outputs": [
    {
     "name": "stdin",
     "output_type": "stream",
     "text": [
      "enter your number 6\n"
     ]
    },
    {
     "name": "stdout",
     "output_type": "stream",
     "text": [
      "1\n",
      "2\n",
      "6\n",
      "24\n",
      "120\n"
     ]
    }
   ],
   "source": [
    "'''Q5: Write a Python program to find the factorial of a number using a for loop.'''\n",
    "factorial_number = int(input(\"enter your number\"))\n",
    "total = 1\n",
    "for i in range(1,factorial_number):\n",
    "    total = total*i\n",
    "    print(total)\n"
   ]
  },
  {
   "cell_type": "code",
   "execution_count": 45,
   "id": "dbdffb7f-08fe-413a-bcfa-15270ac79b88",
   "metadata": {},
   "outputs": [
    {
     "name": "stdout",
     "output_type": "stream",
     "text": [
      "1\n",
      "1\n",
      "2\n",
      "3\n",
      "5\n",
      "8\n",
      "13\n",
      "21\n",
      "34\n",
      "55\n"
     ]
    }
   ],
   "source": [
    "'''Q6: Write a Python program to print the Fibonacci sequence up to a specified number\n",
    "using a for loop.'''\n",
    "\n",
    "a = 0\n",
    "b = 1\n",
    "\n",
    "for i in range(0,10):\n",
    "    a,b = b,a+b\n",
    "    print(a)\n"
   ]
  },
  {
   "cell_type": "code",
   "execution_count": 56,
   "id": "6e38c623-87f3-42f2-913c-8ab93bb02c2e",
   "metadata": {},
   "outputs": [
    {
     "name": "stdout",
     "output_type": "stream",
     "text": [
      "not a prime number\n"
     ]
    }
   ],
   "source": [
    "'''Q7: Write a Python program to check if a given number is prime or not using a for loop.'''\n",
    "number = 13\n",
    "\n",
    "for i in range(2,100):\n",
    "    if number % 1 == 0:\n",
    "        print(\"not a prime number\")\n",
    "        break\n",
    "\n",
    "else:\n",
    "    print(\"prime number\")"
   ]
  },
  {
   "cell_type": "code",
   "execution_count": 62,
   "id": "df53fca6-b7a7-4414-a0a4-2eae9caa79d8",
   "metadata": {},
   "outputs": [
    {
     "data": {
      "text/plain": [
       "97"
      ]
     },
     "execution_count": 62,
     "metadata": {},
     "output_type": "execute_result"
    }
   ],
   "source": [
    "'''Q8: Write a Python program to find the largest element in a list using a for loop.'''\n",
    "list = [55,67,88,97,45,63,58,78]\n",
    "max(list)"
   ]
  },
  {
   "cell_type": "code",
   "execution_count": 68,
   "id": "06e24efe-e716-4d10-833c-1a899c5a46c0",
   "metadata": {},
   "outputs": [
    {
     "name": "stdout",
     "output_type": "stream",
     "text": [
      "nohtyp\n"
     ]
    }
   ],
   "source": [
    "'''Q9: Write a Python program to reverse a given string using a for loop.'''\n",
    "name = \"python\"\n",
    "\n",
    "rev_text = \"\"\n",
    "for i in name:\n",
    "    rev_text = i + rev_text\n",
    "\n",
    "print(rev_text)"
   ]
  },
  {
   "cell_type": "code",
   "execution_count": null,
   "id": "8a6762f0-f90b-4683-98d1-3adc42696483",
   "metadata": {},
   "outputs": [],
   "source": [
    "'''10: Write a Python program to find the common elements between two lists using a\n",
    "for loop.'''"
   ]
  }
 ],
 "metadata": {
  "kernelspec": {
   "display_name": "Python [conda env:base] *",
   "language": "python",
   "name": "conda-base-py"
  },
  "language_info": {
   "codemirror_mode": {
    "name": "ipython",
    "version": 3
   },
   "file_extension": ".py",
   "mimetype": "text/x-python",
   "name": "python",
   "nbconvert_exporter": "python",
   "pygments_lexer": "ipython3",
   "version": "3.12.7"
  }
 },
 "nbformat": 4,
 "nbformat_minor": 5
}
