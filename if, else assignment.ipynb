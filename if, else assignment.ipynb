{
 "cells": [
  {
   "cell_type": "code",
   "execution_count": 1,
   "id": "87b22ad8-5f15-4418-8157-c9f252f86fff",
   "metadata": {},
   "outputs": [
    {
     "name": "stdin",
     "output_type": "stream",
     "text": [
      "enter your units 25\n"
     ]
    },
    {
     "name": "stdout",
     "output_type": "stream",
     "text": [
      "no charges\n"
     ]
    }
   ],
   "source": [
    "'''Q1. Write a program to calculate the electricity bill\n",
    "using only if statement?'''\n",
    "# units = int(input(\"enter your units\"))\n",
    "# if units <=100:\n",
    "#     print(\"no charges\")\n",
    "# elif units <=200:\n",
    "#     print(\"5 Rs per unit\")\n",
    "# elif units >200:\n",
    "#     print(\"10 Rs per units\")\n",
    "            "
   ]
  },
  {
   "cell_type": "code",
   "execution_count": 20,
   "id": "a36ec623-8e4a-4ac5-b39b-e9be6565fc7d",
   "metadata": {},
   "outputs": [
    {
     "name": "stdin",
     "output_type": "stream",
     "text": [
      "enter your marks 55\n"
     ]
    },
    {
     "name": "stdout",
     "output_type": "stream",
     "text": [
      "grade 'D'\n"
     ]
    }
   ],
   "source": [
    "'''Q2. Write a program to accept percentage from the user and display\n",
    "the grade according to the following criteria:'''\n",
    "# marks = int(input(\"enter your marks\"))\n",
    "# if marks >=90:\n",
    "#     print(\"grade 'A'\")\n",
    "# elif marks >=80:\n",
    "#     print(\"grade 'B'\")\n",
    "# elif marks >=60:\n",
    "#     print(\"grade 'C'\")\n",
    "# elif marks <60:\n",
    "#     print(\"grade 'D'\")"
   ]
  },
  {
   "cell_type": "code",
   "execution_count": 22,
   "id": "7aec25fe-888a-45b1-ab7e-e3c17af10cb4",
   "metadata": {},
   "outputs": [
    {
     "name": "stdin",
     "output_type": "stream",
     "text": [
      "Enter age of person 1:  18\n",
      "Enter age of person 2:  22\n",
      "Enter age of person 3:  24\n",
      "Enter age of person 4:  16\n"
     ]
    },
    {
     "name": "stdout",
     "output_type": "stream",
     "text": [
      "The youngest age is: 16\n"
     ]
    }
   ],
   "source": [
    "'''Q3. Accept the age of 4 people and display the youngest one?'''\n",
    "# Accept ages of 4 people\n",
    "# age1 = int(input(\"Enter age of person 1: \"))\n",
    "# age2 = int(input(\"Enter age of person 2: \"))\n",
    "# age3 = int(input(\"Enter age of person 3: \"))\n",
    "# age4 = int(input(\"Enter age of person 4: \"))\n",
    "\n",
    "# # Find the youngest age using min()\n",
    "# youngest = min(age1, age2, age3, age4)\n",
    "\n",
    "# # Display the result\n",
    "# print(\"The youngest age is:\", youngest)\n"
   ]
  },
  {
   "cell_type": "code",
   "execution_count": 46,
   "id": "fe75dedb-9266-4be0-9672-03f4bafe003d",
   "metadata": {},
   "outputs": [
    {
     "ename": "SyntaxError",
     "evalue": "unterminated string literal (detected at line 13) (2846037302.py, line 13)",
     "output_type": "error",
     "traceback": [
      "\u001b[1;36m  Cell \u001b[1;32mIn[46], line 13\u001b[1;36m\u001b[0m\n\u001b[1;33m    print(\"your net bonus amount is :, bonus)\u001b[0m\n\u001b[1;37m          ^\u001b[0m\n\u001b[1;31mSyntaxError\u001b[0m\u001b[1;31m:\u001b[0m unterminated string literal (detected at line 13)\n"
     ]
    }
   ],
   "source": [
    "'''Q4. A company decided to give bonus to employee\n",
    "according to following criteria:'''\n",
    "salary = float(input(\"enter your salary\"))\n",
    "years_of_service = float(input(\"enter your service\"))\n",
    "\n",
    "if years_of_service >10:\n",
    "    bonus = 0.10*salary\n",
    "elif 6>= years_of_service <10:\n",
    "    bonus = 0.08*salary\n",
    "elif years_of_service <6:\n",
    "    bonus = 0.06*salary\n",
    "\n",
    "print(\"your net bonus amount is :, bonus)\n"
   ]
  },
  {
   "cell_type": "code",
   "execution_count": 48,
   "id": "b161261a-b060-4328-947d-6d4d9e876a71",
   "metadata": {},
   "outputs": [
    {
     "name": "stdin",
     "output_type": "stream",
     "text": [
      "enter your number: 56\n",
      "enter your number: 25\n",
      "enter your number: 15\n"
     ]
    },
    {
     "name": "stdout",
     "output_type": "stream",
     "text": [
      "The second largest number is: 25\n"
     ]
    }
   ],
   "source": [
    "'''Q5. Accept three numbers from the user and\n",
    "display the second largest number?'''\n",
    "#Accept three numbers\n",
    "num1 = int(input(\"enter your number:\"))\n",
    "num2 = int(input(\"enter your number:\"))\n",
    "num3 = int(input(\"enter your number:\"))\n",
    "# Put the numbers in a list\n",
    "numbers = [num1, num2, num3]\n",
    "\n",
    "# Sort the list in descending order\n",
    "numbers.sort(reverse=True)\n",
    "\n",
    "# Display the second largest number\n",
    "print(\"The second largest number is:\", numbers[1])"
   ]
  },
  {
   "cell_type": "code",
   "execution_count": null,
   "id": "a8616809-3702-4df8-a7b9-6f94cd967af1",
   "metadata": {},
   "outputs": [],
   "source": []
  }
 ],
 "metadata": {
  "kernelspec": {
   "display_name": "Python [conda env:base] *",
   "language": "python",
   "name": "conda-base-py"
  },
  "language_info": {
   "codemirror_mode": {
    "name": "ipython",
    "version": 3
   },
   "file_extension": ".py",
   "mimetype": "text/x-python",
   "name": "python",
   "nbconvert_exporter": "python",
   "pygments_lexer": "ipython3",
   "version": "3.12.7"
  }
 },
 "nbformat": 4,
 "nbformat_minor": 5
}
