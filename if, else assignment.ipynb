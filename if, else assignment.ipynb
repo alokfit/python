{
 "cells": [
  {
   "cell_type": "code",
   "execution_count": 1,
   "id": "87b22ad8-5f15-4418-8157-c9f252f86fff",
   "metadata": {},
   "outputs": [
    {
     "name": "stdin",
     "output_type": "stream",
     "text": [
      "enter your units 25\n"
     ]
    },
    {
     "name": "stdout",
     "output_type": "stream",
     "text": [
      "no charges\n"
     ]
    }
   ],
   "source": [
    "'''Q1. Write a program to calculate the electricity bill\n",
    "using only if statement?'''\n",
    "units = int(input(\"enter your units\"))\n",
    "if units <=100:\n",
    "    print(\"no charges\")\n",
    "elif units <=200:\n",
    "    print(\"5 Rs per unit\")\n",
    "elif units >200:\n",
    "    print(\"10 Rs per units\")\n",
    "            "
   ]
  },
  {
   "cell_type": "code",
   "execution_count": 20,
   "id": "a36ec623-8e4a-4ac5-b39b-e9be6565fc7d",
   "metadata": {},
   "outputs": [
    {
     "name": "stdin",
     "output_type": "stream",
     "text": [
      "enter your marks 55\n"
     ]
    },
    {
     "name": "stdout",
     "output_type": "stream",
     "text": [
      "grade 'D'\n"
     ]
    }
   ],
   "source": [
    "'''Q2. Write a program to accept percentage from the user and display\n",
    "the grade according to the following criteria:'''\n",
    "marks = int(input(\"enter your marks\"))\n",
    "if marks >=90:\n",
    "    print(\"grade 'A'\")\n",
    "elif marks >=80:\n",
    "    print(\"grade 'B'\")\n",
    "elif marks >=60:\n",
    "    print(\"grade 'C'\")\n",
    "elif marks <60:\n",
    "    print(\"grade 'D'\")"
   ]
  },
  {
   "cell_type": "code",
   "execution_count": 22,
   "id": "7aec25fe-888a-45b1-ab7e-e3c17af10cb4",
   "metadata": {},
   "outputs": [
    {
     "name": "stdin",
     "output_type": "stream",
     "text": [
      "Enter age of person 1:  18\n",
      "Enter age of person 2:  22\n",
      "Enter age of person 3:  24\n",
      "Enter age of person 4:  16\n"
     ]
    },
    {
     "name": "stdout",
     "output_type": "stream",
     "text": [
      "The youngest age is: 16\n"
     ]
    }
   ],
   "source": [
    "'''Q3. Accept the age of 4 people and display the youngest one?'''\n",
    "\n",
    "age1 = int(input(\"Enter age of person 1: \"))\n",
    "age2 = int(input(\"Enter age of person 2: \"))\n",
    "age3 = int(input(\"Enter age of person 3: \"))\n",
    "age4 = int(input(\"Enter age of person 4: \"))\n",
    "\n",
    "youngest = min(age1, age2, age3, age4)\n",
    "\n",
    "print(\"The youngest age is:\", youngest)\n"
   ]
  },
  {
   "cell_type": "code",
   "execution_count": 23,
   "id": "fe75dedb-9266-4be0-9672-03f4bafe003d",
   "metadata": {},
   "outputs": [
    {
     "name": "stdin",
     "output_type": "stream",
     "text": [
      "enter your salary 25000\n",
      "enter your service 7\n"
     ]
    },
    {
     "name": "stdout",
     "output_type": "stream",
     "text": [
      "Bonus amount is: 2000.0\n"
     ]
    }
   ],
   "source": [
    "'''Q4. A company decided to give bonus to employee\n",
    "according to following criteria:'''\n",
    "salary = float(input(\"enter your salary\"))\n",
    "years_of_service = float(input(\"enter your service\"))\n",
    "\n",
    "if years_of_service >10:\n",
    "    bonus = 0.10*salary\n",
    "elif years_of_service >=6 and years_of_service <10:\n",
    "    bonus = 0.08*salary\n",
    "elif years_of_service <6:\n",
    "    bonus = 0.06*salary\n",
    "print(\"Bonus amount is:\", bonus)"
   ]
  },
  {
   "cell_type": "code",
   "execution_count": 25,
   "id": "b161261a-b060-4328-947d-6d4d9e876a71",
   "metadata": {},
   "outputs": [
    {
     "name": "stdin",
     "output_type": "stream",
     "text": [
      "enter your number: 5\n",
      "enter your number: 4\n",
      "enter your number: 6\n"
     ]
    },
    {
     "name": "stdout",
     "output_type": "stream",
     "text": [
      "The second largest number is: 5\n"
     ]
    }
   ],
   "source": [
    "'''Q5. Accept three numbers from the user and\n",
    "display the second largest number?'''\n",
    "\n",
    "num1 = int(input(\"enter your number:\"))\n",
    "num2 = int(input(\"enter your number:\"))\n",
    "num3 = int(input(\"enter your number:\"))\n",
    "\n",
    "numbers = [num1, num2, num3]\n",
    "\n",
    "numbers.sort(reverse=True)\n",
    "\n",
    "print(\"The second largest number is:\", numbers[1])"
   ]
  },
  {
   "cell_type": "code",
   "execution_count": 45,
   "id": "6651010d-ec33-48d4-98a0-b21c1b7524b6",
   "metadata": {},
   "outputs": [
    {
     "name": "stdin",
     "output_type": "stream",
     "text": [
      "enter your english marks:  85\n",
      "enter your math marks:  85\n",
      "enter your science marks:  55\n",
      "enter your social studies marks:  60\n"
     ]
    },
    {
     "name": "stdout",
     "output_type": "stream",
     "text": [
      "stream alloted: commerce\n"
     ]
    }
   ],
   "source": [
    "'''Q7. Accept the marks of English, Math and Science,\n",
    "Social Studies Subject and display the stream allotted\n",
    "according to following:\n",
    "\n",
    "All Subjects more than 80 marks — Science Stream\n",
    "\n",
    "English >80 and Math, Science above 50 — Commerce Stream\n",
    "\n",
    "English > 80 and social studies > 80 — Humanities'''\n",
    "\n",
    "english = int(input(\"enter your english marks: \"))\n",
    "math = int(input(\"enter your math marks: \"))\n",
    "science = int(input(\"enter your science marks: \"))\n",
    "social_studies = int(input(\"enter your social studies marks: \"))\n",
    "\n",
    "if english >80 and math >80 and science >80 and social_studies >80:\n",
    "    stream = \"science\"\n",
    "elif english >80 and math >80 and science >50:\n",
    "    stream  = \"commerce\"\n",
    "elif english >80 and social_studies >80:\n",
    "    stream = \"humanities\"\n",
    "else:\n",
    "    stream = \"no stream allotted based on given criteria\"\n",
    "    \n",
    "\n",
    "print(\"stream alloted:\", stream)"
   ]
  },
  {
   "cell_type": "code",
   "execution_count": 51,
   "id": "b747c2b3-6aca-49de-ac05-60e96ce9a2dc",
   "metadata": {},
   "outputs": [
    {
     "name": "stdin",
     "output_type": "stream",
     "text": [
      "enter your number 24\n"
     ]
    },
    {
     "name": "stdout",
     "output_type": "stream",
     "text": [
      "bye\n"
     ]
    }
   ],
   "source": [
    "'''Q8. Write a program to display \"Hello\" if a number entered\n",
    "by user is a multiple of five, otherwise print \"Bye\"?'''\n",
    "\n",
    "num = int(input(\"enter your number\"))\n",
    "if num % 5 == 0:\n",
    "    print(\"hello\")\n",
    "else:\n",
    "    print(\"bye\")"
   ]
  },
  {
   "cell_type": "code",
   "execution_count": 19,
   "id": "a8616809-3702-4df8-a7b9-6f94cd967af1",
   "metadata": {},
   "outputs": [
    {
     "name": "stdin",
     "output_type": "stream",
     "text": [
      "enter your id alok2609\n",
      "enter your password Alok912002\n"
     ]
    },
    {
     "name": "stdout",
     "output_type": "stream",
     "text": [
      "access pass\n"
     ]
    }
   ],
   "source": [
    "import webbrowser\n",
    "user_name = \"Alok2609\"\n",
    "user_pass = \"Alok912002\"\n",
    "\n",
    "user_id = input(\"enter your id\").capitalize()\n",
    "pass_word = input(\"enter your password\")\n",
    "\n",
    "if user_name == user_id and user_pass == pass_word:\n",
    "    print(\"access pass\")\n",
    "    webbrowser.open(\"www.google.com\")\n",
    "\n",
    "else:\n",
    "    print(\"decline try again\")"
   ]
  },
  {
   "cell_type": "code",
   "execution_count": 15,
   "id": "81f624fb-4e9b-4c7f-bd27-d22cdb1fe4b2",
   "metadata": {},
   "outputs": [
    {
     "name": "stdin",
     "output_type": "stream",
     "text": [
      "enter your marks 79\n"
     ]
    },
    {
     "name": "stdout",
     "output_type": "stream",
     "text": [
      "fail\n"
     ]
    }
   ],
   "source": [
    "student_marks = int(input(\"enter your marks\"))\n",
    "\n",
    "if student_marks >= 90:\n",
    "    print(\"A\")\n",
    "elif student_marks >= 80:\n",
    "    print(\"B\")\n",
    "else:\n",
    "    print(\"fail\")\n",
    "\n"
   ]
  },
  {
   "cell_type": "code",
   "execution_count": null,
   "id": "3244357e-2b12-4381-a1af-7fccfa4a860e",
   "metadata": {},
   "outputs": [],
   "source": []
  }
 ],
 "metadata": {
  "kernelspec": {
   "display_name": "Python [conda env:base] *",
   "language": "python",
   "name": "conda-base-py"
  },
  "language_info": {
   "codemirror_mode": {
    "name": "ipython",
    "version": 3
   },
   "file_extension": ".py",
   "mimetype": "text/x-python",
   "name": "python",
   "nbconvert_exporter": "python",
   "pygments_lexer": "ipython3",
   "version": "3.12.7"
  }
 },
 "nbformat": 4,
 "nbformat_minor": 5
}
