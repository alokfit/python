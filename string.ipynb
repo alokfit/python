{
 "cells": [
  {
   "cell_type": "code",
   "execution_count": 3,
   "id": "1a664995-13ea-4710-a386-36606263b462",
   "metadata": {},
   "outputs": [
    {
     "name": "stdout",
     "output_type": "stream",
     "text": [
      "Alok23\n"
     ]
    }
   ],
   "source": [
    "'''Q1.How do you concatenate two strings in Python?'''\n",
    "name = \"Alok\"\n",
    "age = \"23\"\n",
    "string = name + age\n",
    "print(string)"
   ]
  },
  {
   "cell_type": "code",
   "execution_count": 13,
   "id": "0400af80-2661-49a0-a168-ff06e3a62cab",
   "metadata": {},
   "outputs": [
    {
     "data": {
      "text/plain": [
       "'h e l l o i   m   p y t h o n'"
      ]
     },
     "execution_count": 13,
     "metadata": {},
     "output_type": "execute_result"
    }
   ],
   "source": [
    "'''Q2.What is the difference between the + operator and the join() method for\n",
    "concatenating strings?'''\n",
    "string1 = \"hello\"\n",
    "string2 = \"i m python\"\n",
    "result = \" \".join(string1+string2)\n",
    "result"
   ]
  },
  {
   "cell_type": "code",
   "execution_count": 15,
   "id": "e57b97a8-8fee-4197-8f1f-a52ab0d12a8e",
   "metadata": {},
   "outputs": [
    {
     "data": {
      "text/plain": [
       "'l'"
      ]
     },
     "execution_count": 15,
     "metadata": {},
     "output_type": "execute_result"
    }
   ],
   "source": [
    "'''Q3.How do you access individual characters in a string?'''\n",
    "string3 = \"hi i am learning python\"\n",
    "string3[8]"
   ]
  },
  {
   "cell_type": "code",
   "execution_count": 17,
   "id": "47ee4792-edc4-430e-985a-c561cfa73364",
   "metadata": {},
   "outputs": [
    {
     "data": {
      "text/plain": [
       "12"
      ]
     },
     "execution_count": 17,
     "metadata": {},
     "output_type": "execute_result"
    }
   ],
   "source": [
    "'''Q4. What method is used to find the length of a string in Python?'''\n",
    "string5 = \"hey whatsapp\"\n",
    "len(string5)"
   ]
  },
  {
   "cell_type": "code",
   "execution_count": 29,
   "id": "19743701-b6b3-4ca2-a49e-f5ef9f2a32d9",
   "metadata": {},
   "outputs": [
    {
     "data": {
      "text/plain": [
       "'ALOK'"
      ]
     },
     "execution_count": 29,
     "metadata": {},
     "output_type": "execute_result"
    }
   ],
   "source": [
    "'''Q5. How can you convert a string to uppercase in Python?'''\n",
    "string6 = \"alok\"\n",
    "upper_case = string6.upper()\n",
    "upper_case"
   ]
  },
  {
   "cell_type": "code",
   "execution_count": 39,
   "id": "787336f1-e4ec-4a83-b1e1-ee08d848556b",
   "metadata": {},
   "outputs": [
    {
     "data": {
      "text/plain": [
       "'alokk'"
      ]
     },
     "execution_count": 39,
     "metadata": {},
     "output_type": "execute_result"
    }
   ],
   "source": [
    "'''Q6. How can you convert a string to lowercase in Python?'''\n",
    "string7 = \"ALOKk\"\n",
    "string7.lower()\n",
    "# lower_case"
   ]
  },
  {
   "cell_type": "code",
   "execution_count": 43,
   "id": "4e2eb084-3d26-4123-980e-3eb3801ab1bf",
   "metadata": {},
   "outputs": [
    {
     "data": {
      "text/plain": [
       "'java is a programing language'"
      ]
     },
     "execution_count": 43,
     "metadata": {},
     "output_type": "execute_result"
    }
   ],
   "source": [
    "'''Q7. What method is used to replace substrings within a string?'''\n",
    "string8 = \"python is a programing language\"\n",
    "string8.replace(\"python\" , \"java\")"
   ]
  },
  {
   "cell_type": "code",
   "execution_count": 49,
   "id": "f998c06f-ab68-4d9e-8948-f51ce0035481",
   "metadata": {},
   "outputs": [
    {
     "data": {
      "text/plain": [
       "['python is a ', ' language']"
      ]
     },
     "execution_count": 49,
     "metadata": {},
     "output_type": "execute_result"
    }
   ],
   "source": [
    "'''Q8. How can you split a string into a list of substrings based on a delimiter?'''\n",
    "string9 = \"python is a programing language\"\n",
    "string9.split('programing')"
   ]
  },
  {
   "cell_type": "code",
   "execution_count": 17,
   "id": "6bf9ec37-035d-4105-8d8e-67b598db18ad",
   "metadata": {},
   "outputs": [
    {
     "name": "stdout",
     "output_type": "stream",
     "text": [
      "True\n"
     ]
    }
   ],
   "source": [
    "'''Q9. How do you check if a string starts with a particular substring?'''\n",
    "string10 = \"hi python\"\n",
    "print(string10.startswith(\"hi\"))"
   ]
  },
  {
   "cell_type": "code",
   "execution_count": 21,
   "id": "68218077-dd1e-498e-9b7e-07e6d6a1a739",
   "metadata": {},
   "outputs": [
    {
     "name": "stdout",
     "output_type": "stream",
     "text": [
      "True\n"
     ]
    }
   ],
   "source": [
    "'''Q10. How do you check if a string end with a particular substring?'''\n",
    "string10 = \"hi python\"\n",
    "print(string10.endswith(\"python\"))"
   ]
  },
  {
   "cell_type": "code",
   "execution_count": 49,
   "id": "2a513711-ba45-4d5e-9ba7-db7bf8e5b2e0",
   "metadata": {},
   "outputs": [
    {
     "name": "stdout",
     "output_type": "stream",
     "text": [
      "learining  python\n"
     ]
    }
   ],
   "source": [
    "'''Q11.How can you remove leading and trailing whitespace from a string?'''\n",
    "string11 = \"                 learining  python   \"\n",
    "# print(string11.strip()) this line is also working.\n",
    "clear_string11 = string11.strip()\n",
    "print(clear_string11)"
   ]
  },
  {
   "cell_type": "code",
   "execution_count": 57,
   "id": "ed47d5d4-f9d0-42a1-a4d4-877413e4fcac",
   "metadata": {},
   "outputs": [
    {
     "name": "stdout",
     "output_type": "stream",
     "text": [
      "3\n"
     ]
    }
   ],
   "source": [
    "'''Q12. What method is used to find the index of the first occurrence of a substring within a\n",
    "string?'''\n",
    "string12 = \"hi my self alok\"\n",
    "print(string12.find(\"my\"))"
   ]
  },
  {
   "cell_type": "code",
   "execution_count": 81,
   "id": "1cb8325d-b901-486c-9a2a-ad6c12f3517b",
   "metadata": {},
   "outputs": [
    {
     "name": "stdout",
     "output_type": "stream",
     "text": [
      "2\n"
     ]
    }
   ],
   "source": [
    "'''Q13. How can you count the number of occurrences of a substring within a string?'''\n",
    "string13 = \"mango is a fruit and mango is very testy\"\n",
    "print(string13.count(\"mango\"))"
   ]
  },
  {
   "cell_type": "code",
   "execution_count": 15,
   "id": "32a80eab-a2e1-41f4-b3f6-bcbd9df73f33",
   "metadata": {},
   "outputs": [
    {
     "name": "stdout",
     "output_type": "stream",
     "text": [
      "True\n"
     ]
    }
   ],
   "source": [
    "'''Q14. How do you check if a string contains only alphabetic characters?'''\n",
    "string14 = \"alokyadav\"\n",
    "print(string14.isalpha())"
   ]
  },
  {
   "cell_type": "code",
   "execution_count": 9,
   "id": "d3b15d8f-1653-4efc-ad2a-12799cd9aa10",
   "metadata": {},
   "outputs": [
    {
     "name": "stdout",
     "output_type": "stream",
     "text": [
      "True\n"
     ]
    }
   ],
   "source": [
    "'''Q15. How do you check if a string contains only numeric characters?'''\n",
    "string15 = \"1234\"\n",
    "print(string15.isdigit())"
   ]
  },
  {
   "cell_type": "code",
   "execution_count": 28,
   "id": "59421b1a-2862-42d5-8f30-c5e4ff86f479",
   "metadata": {},
   "outputs": [
    {
     "data": {
      "text/plain": [
       "'Q16. How can you check if a string is a palindrome?'"
      ]
     },
     "execution_count": 28,
     "metadata": {},
     "output_type": "execute_result"
    }
   ],
   "source": [
    "'''Q16. How can you check if a string is a palindrome?'''"
   ]
  },
  {
   "cell_type": "code",
   "execution_count": null,
   "id": "24288dee-460d-4769-b454-6630eedba14b",
   "metadata": {},
   "outputs": [],
   "source": [
    "'''Q17. How can you reverse a string in Python?'''"
   ]
  },
  {
   "cell_type": "code",
   "execution_count": null,
   "id": "03ed43f7-3752-4ac6-8907-f84d82c8706d",
   "metadata": {},
   "outputs": [],
   "source": [
    "'''Q18. How do you format a string with placeholders for variable values?'''"
   ]
  },
  {
   "cell_type": "code",
   "execution_count": null,
   "id": "6d55723b-b8af-46c6-87be-52f2562c3ae6",
   "metadata": {},
   "outputs": [],
   "source": [
    "'''Q19. How do you access a substring of a string using slicing?'''"
   ]
  },
  {
   "cell_type": "code",
   "execution_count": null,
   "id": "69def21f-4bfe-469a-8607-faa8cbb4304f",
   "metadata": {},
   "outputs": [],
   "source": [
    "'''Q20. How can you remove specific characters from a string in Python?'''"
   ]
  }
 ],
 "metadata": {
  "kernelspec": {
   "display_name": "Python [conda env:base] *",
   "language": "python",
   "name": "conda-base-py"
  },
  "language_info": {
   "codemirror_mode": {
    "name": "ipython",
    "version": 3
   },
   "file_extension": ".py",
   "mimetype": "text/x-python",
   "name": "python",
   "nbconvert_exporter": "python",
   "pygments_lexer": "ipython3",
   "version": "3.12.7"
  }
 },
 "nbformat": 4,
 "nbformat_minor": 5
}
